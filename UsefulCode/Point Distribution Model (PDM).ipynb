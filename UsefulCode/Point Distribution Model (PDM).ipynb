{
 "cells": [
  {
   "cell_type": "code",
   "execution_count": 26,
   "id": "432032cc",
   "metadata": {},
   "outputs": [],
   "source": [
    "import dlib\n",
    "import cv2\n",
    "import numpy as np"
   ]
  },
  {
   "cell_type": "code",
   "execution_count": 27,
   "id": "9dd131ea",
   "metadata": {},
   "outputs": [],
   "source": [
    "predictor_path = \"shape_predictor_68_face_landmarks.dat\"\n",
    "face_detector = dlib.get_frontal_face_detector()\n",
    "landmark_predictor = dlib.shape_predictor(predictor_path)"
   ]
  },
  {
   "cell_type": "code",
   "execution_count": null,
   "id": "7cd7c7b7",
   "metadata": {},
   "outputs": [],
   "source": [
    "image = cv2.VideoCapture(0)\n",
    "(grabbed, image) = image.read()\n",
    "gray = cv2.cvtColor(image, cv2.COLOR_BGR2GRAY)\n",
    "faces = face_detector(gray)"
   ]
  },
  {
   "cell_type": "code",
   "execution_count": null,
   "id": "777d1c81",
   "metadata": {},
   "outputs": [],
   "source": [
    "for face in faces:\n",
    "    landmarks = landmark_predictor(gray, face)\n",
    "    landmarks_np = np.array([[p.x, p.y] for p in landmarks.parts()])\n",
    "    for (x, y) in landmarks_np:\n",
    "        cv2.circle(image, (x, y), 1, (0,255,0), -1)\n",
    "\n",
    "cv2.imshow(\"Facial Landmarks\", image)\n",
    "cv2.waitKey(0)\n",
    "cv2.destroyAllWindows()\n",
    "cv2.waitKey(1)"
   ]
  },
  {
   "cell_type": "code",
   "execution_count": 29,
   "id": "0118f941",
   "metadata": {},
   "outputs": [],
   "source": [
    "capture = cv2.VideoCapture(0)\n",
    "while True:\n",
    "    (ret, frame) = capture.read()\n",
    "    if not ret:\n",
    "        break\n",
    "        \n",
    "\n",
    "    gray = cv2.cvtColor(frame, cv2.COLOR_BGR2GRAY)\n",
    "    faces = face_detector(gray)\n",
    "        \n",
    "    for face in faces:\n",
    "        landmarks = landmark_predictor(gray, face)\n",
    "        landmarks_np = np.array([[p.x, p.y] for p in landmarks.parts()])\n",
    "        for (x, y) in landmarks_np:\n",
    "            cv2.circle(frame, (x, y), 1, (0,255,0), -1)\n",
    "\n",
    "    cv2.imshow(\"Facial Landmarks\", frame)\n",
    "    \n",
    "    if cv2.waitKey(1) & 0xFF == ord('q'):\n",
    "        capture.release()\n",
    "        cv2.destroyAllWindows()\n",
    "        break\n",
    "        "
   ]
  },
  {
   "cell_type": "code",
   "execution_count": null,
   "id": "b31090dc",
   "metadata": {},
   "outputs": [],
   "source": []
  }
 ],
 "metadata": {
  "kernelspec": {
   "display_name": "Python 3",
   "language": "python",
   "name": "python3"
  },
  "language_info": {
   "codemirror_mode": {
    "name": "ipython",
    "version": 3
   },
   "file_extension": ".py",
   "mimetype": "text/x-python",
   "name": "python",
   "nbconvert_exporter": "python",
   "pygments_lexer": "ipython3",
   "version": "3.8.8"
  }
 },
 "nbformat": 4,
 "nbformat_minor": 5
}
