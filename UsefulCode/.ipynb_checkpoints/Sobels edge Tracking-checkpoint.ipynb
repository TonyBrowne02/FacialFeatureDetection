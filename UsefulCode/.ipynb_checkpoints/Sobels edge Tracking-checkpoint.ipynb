{
 "cells": [
  {
   "cell_type": "code",
   "execution_count": 1,
   "id": "9bf8ce65",
   "metadata": {},
   "outputs": [],
   "source": [
    "import cv2\n",
    "import numpy as np"
   ]
  },
  {
   "cell_type": "code",
   "execution_count": 2,
   "id": "18526def",
   "metadata": {},
   "outputs": [],
   "source": [
    "# Median filter from OpenCV to reduce noise\n",
    "def median_kernel(image):\n",
    "    return cv2.medianBlur(image, 5)"
   ]
  },
  {
   "cell_type": "code",
   "execution_count": 3,
   "id": "0290c428",
   "metadata": {},
   "outputs": [],
   "source": [
    "# Use the histogram equalization to improve the contrast\n",
    "def histogram_equalize(image):\n",
    "    if len(image.shape) == 2:\n",
    "        return cv2.equalizeHist(image)\n",
    "    else: \n",
    "        YCrCb = cv2.cvtColor(image, cv2.COLOR_BGR2YCrCb)\n",
    "        YCrCb[:, :, 0] = cv2.equalizeHist(YCrCb[:, :, 0])\n",
    "        return cv2.cvtColor(YCrCb, cv2.COLOR_YCrCb2BGR)"
   ]
  },
  {
   "cell_type": "code",
   "execution_count": 4,
   "id": "d1bd2393",
   "metadata": {},
   "outputs": [],
   "source": [
    "# Using Sobel operator in Open CV to detect edges \n",
    "def sobel_edge(image):\n",
    "    gray = cv2.cvtColor(image, cv2.COLOR_BGR2GRAY)\n",
    "    sobel_x = cv2.Sobel(gray, cv2.CV_64F, 1, 0, ksize=3)\n",
    "    sobel_y = cv2.Sobel(gray, cv2.CV_64F, 0, 1, ksize=3)\n",
    "    sobel_combined = cv2.magnitude(sobel_x, sobel_y)\n",
    "    return cv2.convertScaleAbs(sobel_combined)"
   ]
  },
  {
   "cell_type": "code",
   "execution_count": 5,
   "id": "6eff5cf9",
   "metadata": {},
   "outputs": [],
   "source": [
    "# Create a threshold to detect the strong edges\n",
    "def track_edges(image, threshold=100):\n",
    "    _, thresh_image = cv2.threshold(image, threshold, 255, cv2.THRESH_BINARY)\n",
    "    return thresh_image"
   ]
  },
  {
   "cell_type": "code",
   "execution_count": 7,
   "id": "2b351d42",
   "metadata": {},
   "outputs": [],
   "source": [
    "cam = cv2.VideoCapture(0)\n",
    "while True:\n",
    "    (check, img) = cam.read()\n",
    "    if not check:\n",
    "        break\n",
    "        \n",
    "    # Apply median filter\n",
    "    med_img = median_kernel(img)\n",
    "    \n",
    "    # Apply histogram equalization\n",
    "    histeq_img = histogram_equalize(med_img)\n",
    "    \n",
    "    # Apply Sobel edge detection algorithm\n",
    "    sobel_img = sobel_edge(histeq_img)\n",
    "    \n",
    "    # Track strong edges with the threshold\n",
    "    track_edge_img = track_edges(sobel_img)\n",
    "    \n",
    "    # Display the image frames\n",
    "    cv2.imshow(\"Original\", img)\n",
    "    cv2.imshow(\"Edge Detection\", sobel_img)\n",
    "    cv2.imshow(\"Tracked Edges\", track_edge_img)\n",
    "    \n",
    "    if cv2.waitKey(1) & 0xFF == ord(\"q\"):\n",
    "        break\n",
    "        \n",
    "cam.release()\n",
    "cv2.destroyAllWindows()"
   ]
  },
  {
   "cell_type": "code",
   "execution_count": null,
   "id": "73dfda56",
   "metadata": {},
   "outputs": [],
   "source": []
  }
 ],
 "metadata": {
  "kernelspec": {
   "display_name": "Python 3",
   "language": "python",
   "name": "python3"
  },
  "language_info": {
   "codemirror_mode": {
    "name": "ipython",
    "version": 3
   },
   "file_extension": ".py",
   "mimetype": "text/x-python",
   "name": "python",
   "nbconvert_exporter": "python",
   "pygments_lexer": "ipython3",
   "version": "3.8.8"
  }
 },
 "nbformat": 4,
 "nbformat_minor": 5
}
