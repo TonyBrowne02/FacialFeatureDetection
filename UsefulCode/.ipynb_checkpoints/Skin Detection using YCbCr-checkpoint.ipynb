{
 "cells": [
  {
   "cell_type": "code",
   "execution_count": 5,
   "id": "c6454d3e",
   "metadata": {},
   "outputs": [],
   "source": [
    "import cv2\n",
    "import numpy as np\n",
    "min_YCbCr = np.array([0, 133, 77], np.uint8)\n",
    "max_YCbCr = np.array([255, 173, 127], np.uint8)"
   ]
  },
  {
   "cell_type": "code",
   "execution_count": 6,
   "id": "95fc1469",
   "metadata": {},
   "outputs": [],
   "source": [
    "def detect_skin(image):\n",
    "    ycbcr_img = cv2. cvtColor(image, cv2.COLOR_BGR2YCrCb)\n",
    "    skin_mask = cv2.inRange(ycbcr_img, min_YCbCr, max_YCbCr)\n",
    "    skin = cv2.bitwise_and(image, image, mask=skin_mask)\n",
    "    return skin"
   ]
  },
  {
   "cell_type": "code",
   "execution_count": 7,
   "id": "a274ec3e",
   "metadata": {},
   "outputs": [],
   "source": [
    "video = cv2.VideoCapture(0)\n",
    "\n",
    "while True:\n",
    "    (check, image) = video.read()\n",
    "    if not check:\n",
    "        break\n",
    "        \n",
    "    skin = detect_skin(image)\n",
    "    \n",
    "    cv2.imshow(\"Original Image\", image)\n",
    "    cv2.imshow(\"Skin Detected\", skin)\n",
    "    \n",
    "    if cv2.waitKey(1) & 0xFF == ord(\"q\"):\n",
    "        break\n",
    "video.release()\n",
    "cv2.destroyAllWindows()"
   ]
  },
  {
   "cell_type": "code",
   "execution_count": null,
   "id": "cb45d277",
   "metadata": {},
   "outputs": [],
   "source": []
  }
 ],
 "metadata": {
  "kernelspec": {
   "display_name": "Python 3",
   "language": "python",
   "name": "python3"
  },
  "language_info": {
   "codemirror_mode": {
    "name": "ipython",
    "version": 3
   },
   "file_extension": ".py",
   "mimetype": "text/x-python",
   "name": "python",
   "nbconvert_exporter": "python",
   "pygments_lexer": "ipython3",
   "version": "3.8.8"
  }
 },
 "nbformat": 4,
 "nbformat_minor": 5
}
