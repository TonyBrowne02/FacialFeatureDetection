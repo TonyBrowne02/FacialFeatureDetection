{
 "cells": [
  {
   "cell_type": "code",
   "execution_count": 1,
   "id": "4f8b0bf9",
   "metadata": {},
   "outputs": [],
   "source": [
    "import cv2\n",
    "import numpy as np"
   ]
  },
  {
   "cell_type": "code",
   "execution_count": 23,
   "id": "597b8352",
   "metadata": {},
   "outputs": [],
   "source": [
    "def skin_detector(image):\n",
    "    # Detects skin regions in a given image\n",
    "    \n",
    "    # Convert the given image to a HSV\n",
    "    hsv = cv2.cvtColor(image, cv2.COLOR_BGR2HSV)\n",
    "    lowerR = np.array([0,50,175])\n",
    "    upperR = np.array([180,150,255])\n",
    "    \n",
    "    skin_mask = cv2.inRange(hsv, lowerR, upperR)\n",
    "    \n",
    "    # Morphological operations\n",
    "    kernel = np.ones((5, 5), np.uint8)\n",
    "    skin_mask = cv2.morphologyEx(skin_mask, cv2.MORPH_OPEN, kernel)\n",
    "    skin_mask = cv2.morphologyEx(skin_mask, cv2.MORPH_CLOSE, kernel)\n",
    "    \n",
    "    return skin_mask"
   ]
  },
  {
   "cell_type": "code",
   "execution_count": 66,
   "id": "4120dac3",
   "metadata": {},
   "outputs": [],
   "source": [
    "def video_skin_detector(image):\n",
    "    # Detects skin regions in a given image\n",
    "    \n",
    "    # Convert the given image to a HSV\n",
    "    hsv = cv2.cvtColor(image, cv2.COLOR_BGR2HSV)\n",
    "    \n",
    "    light_intensity = np.mean(image)\n",
    "    \n",
    "    if light_intensity < 100:   # Low light intesity\n",
    "        lowerR = np.array([0,50,50])\n",
    "        upperR = np.array([15,255,255])        \n",
    "    elif 100 <= light_intensity <= 130:  # High light intensity\n",
    "        lowerR = np.array([0,0,100])\n",
    "        upperR = np.array([180,150,150])       \n",
    "    else:\n",
    "        lowerR = np.array([0,100,200])\n",
    "        upperR = np.array([10,255,255])   \n",
    "\n",
    "\n",
    "    \n",
    "    skin_mask = cv2.inRange(hsv, lowerR, upperR)\n",
    "    \n",
    "    # Morphological operations\n",
    "    kernel = np.ones((5, 5), np.uint8)\n",
    "    skin_mask = cv2.morphologyEx(skin_mask, cv2.MORPH_OPEN, kernel)\n",
    "    skin_mask = cv2.morphologyEx(skin_mask, cv2.MORPH_CLOSE, kernel)\n",
    "    \n",
    "    return skin_mask"
   ]
  },
  {
   "cell_type": "code",
   "execution_count": 67,
   "id": "d1402d7e",
   "metadata": {},
   "outputs": [],
   "source": [
    "capture = cv2.VideoCapture(0)\n",
    "while True:\n",
    "    (ret, frame) = capture.read()\n",
    "    if not ret:\n",
    "        break\n",
    "        \n",
    "    skin_mask = video_skin_detector(frame)\n",
    "    skin_region = cv2.bitwise_and(frame, frame, mask=skin_mask)\n",
    "    \n",
    "        \n",
    "    light_intensity = np.mean(frame)\n",
    "    intensity_string = f\"{light_intensity:.2f}\"\n",
    "    cv2.putText(frame, intensity_string, (10, 30), cv2.FONT_HERSHEY_SIMPLEX, 1, (255, 255, 255), 2)\n",
    "\n",
    "    \n",
    "    \n",
    "    # Display the results\n",
    "    cv2.imshow(\"Original Image\", frame)\n",
    "    cv2.imshow(\"Skin Mask\", skin_mask)\n",
    "    cv2.imshow(\"Skin Regions\", skin_region)\n",
    "\n",
    "    if cv2.waitKey(1) & 0xFF == ord('q'):\n",
    "        capture.release()\n",
    "        cv2.destroyAllWindows()\n",
    "        break\n",
    "        \n",
    "    "
   ]
  },
  {
   "cell_type": "code",
   "execution_count": 3,
   "id": "70e4815f",
   "metadata": {},
   "outputs": [],
   "source": [
    "# Detect skin from an image\n",
    "img = cv2.VideoCapture(0)\n",
    "(grabbed, img) = img.read()"
   ]
  },
  {
   "cell_type": "code",
   "execution_count": 4,
   "id": "4865cb88",
   "metadata": {},
   "outputs": [
    {
     "data": {
      "text/plain": [
       "-1"
      ]
     },
     "execution_count": 4,
     "metadata": {},
     "output_type": "execute_result"
    }
   ],
   "source": [
    "# Show the captured photo to test camera\n",
    "cv2.imshow(\"Captured Photo\", img)\n",
    "cv2.waitKey(0)\n",
    "cv2.destroyAllWindows\n",
    "cv2.waitKey(1)"
   ]
  },
  {
   "cell_type": "code",
   "execution_count": 73,
   "id": "7838b458",
   "metadata": {},
   "outputs": [],
   "source": [
    "skin_mask = skin_detector(img)\n",
    "inverted_skin_mask = cv2.bitwise_not(skin_mask)\n",
    "skin_region = cv2.bitwise_and(img, img, mask=skin_mask)\n",
    "inv_skin_reg = cv2.bitwise_and(img, img, mask=inverted_skin_mask)"
   ]
  },
  {
   "cell_type": "code",
   "execution_count": 68,
   "id": "03bf120b",
   "metadata": {},
   "outputs": [
    {
     "ename": "NameError",
     "evalue": "name 'img' is not defined",
     "output_type": "error",
     "traceback": [
      "\u001b[1;31m---------------------------------------------------------------------------\u001b[0m",
      "\u001b[1;31mNameError\u001b[0m                                 Traceback (most recent call last)",
      "\u001b[1;32m<ipython-input-68-46843479785b>\u001b[0m in \u001b[0;36m<module>\u001b[1;34m\u001b[0m\n\u001b[1;32m----> 1\u001b[1;33m \u001b[0mcv2\u001b[0m\u001b[1;33m.\u001b[0m\u001b[0mimshow\u001b[0m\u001b[1;33m(\u001b[0m\u001b[1;34m\"Original Image\"\u001b[0m\u001b[1;33m,\u001b[0m \u001b[0mimg\u001b[0m\u001b[1;33m)\u001b[0m\u001b[1;33m\u001b[0m\u001b[1;33m\u001b[0m\u001b[0m\n\u001b[0m\u001b[0;32m      2\u001b[0m \u001b[1;31m#cv2.imshow(\"Skin Mask\", skin_mask)\u001b[0m\u001b[1;33m\u001b[0m\u001b[1;33m\u001b[0m\u001b[1;33m\u001b[0m\u001b[0m\n\u001b[0;32m      3\u001b[0m \u001b[1;31m#cv2.imshow(\"Inverted Mask\", inverted_skin_mask)\u001b[0m\u001b[1;33m\u001b[0m\u001b[1;33m\u001b[0m\u001b[1;33m\u001b[0m\u001b[0m\n\u001b[0;32m      4\u001b[0m \u001b[0mcv2\u001b[0m\u001b[1;33m.\u001b[0m\u001b[0mimshow\u001b[0m\u001b[1;33m(\u001b[0m\u001b[1;34m\"Skin Regions\"\u001b[0m\u001b[1;33m,\u001b[0m \u001b[0mskin_region\u001b[0m\u001b[1;33m)\u001b[0m\u001b[1;33m\u001b[0m\u001b[1;33m\u001b[0m\u001b[0m\n\u001b[0;32m      5\u001b[0m \u001b[0mcv2\u001b[0m\u001b[1;33m.\u001b[0m\u001b[0mimshow\u001b[0m\u001b[1;33m(\u001b[0m\u001b[1;34m\"Inverted Skin Regions\"\u001b[0m\u001b[1;33m,\u001b[0m \u001b[0minv_skin_reg\u001b[0m\u001b[1;33m)\u001b[0m\u001b[1;33m\u001b[0m\u001b[1;33m\u001b[0m\u001b[0m\n",
      "\u001b[1;31mNameError\u001b[0m: name 'img' is not defined"
     ]
    }
   ],
   "source": [
    "cv2.imshow(\"Original Image\", img)\n",
    "#cv2.imshow(\"Skin Mask\", skin_mask)\n",
    "#cv2.imshow(\"Inverted Mask\", inverted_skin_mask)\n",
    "cv2.imshow(\"Skin Regions\", skin_region)\n",
    "cv2.imshow(\"Inverted Skin Regions\", inv_skin_reg)\n",
    "cv2.waitKey(0)\n",
    "cv2.destroyAllWindows\n",
    "cv2.waitKey(1)"
   ]
  },
  {
   "cell_type": "code",
   "execution_count": null,
   "id": "ae0a96c8",
   "metadata": {},
   "outputs": [],
   "source": []
  }
 ],
 "metadata": {
  "kernelspec": {
   "display_name": "Python 3",
   "language": "python",
   "name": "python3"
  },
  "language_info": {
   "codemirror_mode": {
    "name": "ipython",
    "version": 3
   },
   "file_extension": ".py",
   "mimetype": "text/x-python",
   "name": "python",
   "nbconvert_exporter": "python",
   "pygments_lexer": "ipython3",
   "version": "3.8.8"
  }
 },
 "nbformat": 4,
 "nbformat_minor": 5
}
